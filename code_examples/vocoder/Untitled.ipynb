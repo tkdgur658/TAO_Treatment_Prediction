{
 "cells": [
  {
   "cell_type": "code",
   "execution_count": 8,
   "id": "3bd4dd76",
   "metadata": {},
   "outputs": [
    {
     "name": "stdout",
     "output_type": "stream",
     "text": [
      "DataLoader Generation\n"
     ]
    }
   ],
   "source": [
    "import torch\n",
    "import torch.nn as nn \n",
    "import pandas as pd\n",
    "from torch.utils.data import DataLoader\n",
    "import numpy as np\n",
    "from sklearn.model_selection import train_test_split\n",
    "\n",
    "\n",
    "\n",
    "#from model import MILK_FFMixer_2stage\n",
    "from Fake_Model import Fake_Model\n",
    "from utils import CustomDataset\n",
    "\n",
    "\n",
    "data_dir = 'input_example'\n",
    "label_file = 'target_example.csv'\n",
    "\n",
    "df_label = pd.read_csv(label_file, header=None, index_col=0)\n",
    "\n",
    "images = [os.path.join(data_dir, f'{i}.npy') for i in df_label.index.to_list()]\n",
    "labels = df_label.to_numpy(dtype=np.int64).flatten()\n",
    "\n",
    "# Train/Valid/Test split\n",
    "seed = 0\n",
    "from monai.transforms import Compose, RandRotate\n",
    "\n",
    "train_test_split_ratio = 0.8\n",
    "train_val_split_ratio = 0.75\n",
    "train_images, test_images, train_labels, test_labels = train_test_split(\n",
    "    images, labels, train_size=train_test_split_ratio, random_state=seed,\n",
    "    stratify=labels if len(labels) * (1 - train_test_split_ratio) > 1 else None,\n",
    ")\n",
    "train_images, val_images, train_labels, val_labels = train_test_split(\n",
    "    train_images, train_labels, train_size=train_val_split_ratio, random_state=seed,\n",
    "    stratify=train_labels if len(train_labels) * (1 - train_val_split_ratio) > 1 else None,\n",
    ")\n",
    "\n",
    "# Define transforms\n",
    "train_transforms = Compose([RandRotate(range_x=10, range_y=10, range_z=10)])\n",
    "val_transforms = None\n",
    "test_transforms = None\n",
    "\n",
    "# create a training data loader\n",
    "trainset = CustomDataset(image_files=train_images, labels=train_labels, transform=train_transforms)\n",
    "validset = CustomDataset(image_files=val_images, labels=val_labels, transform=val_transforms)\n",
    "testset = CustomDataset(image_files=test_images, labels=test_labels, transform=test_transforms)\n",
    "\n",
    "##############################################################################################################################\n",
    "\n",
    "print('DataLoader Generation')\n",
    "\n",
    "\n",
    "\n",
    "train_sampler = None\n",
    "valid_sampler = None\n",
    "test_sampler  = None\n",
    "suffle=False\n",
    "\n",
    "train_loader = DataLoader(trainset, num_workers=0, shuffle=False,\n",
    "                      sampler=train_sampler, batch_size=4 ,\n",
    "                      pin_memory=False, drop_last=False,\n",
    "                      collate_fn=None )   "
   ]
  },
  {
   "cell_type": "code",
   "execution_count": 21,
   "id": "f1e3dadf",
   "metadata": {},
   "outputs": [],
   "source": [
    "class Fake_Model(nn.Module):\n",
    "    def __init__(self):\n",
    "        super(Fake_Model, self).__init__()\n",
    "        \n",
    "    def forward(self, inputs, DEBUG=False):\n",
    "        out = inputs[:,0,0,0,0]\n",
    "        return out \n",
    "    \n",
    "    def infer(self, inputs, DEBUG=False):    \n",
    "        return self.forward(inputs, DEBUG=DEBUG)\n",
    "model = Fake_Model()"
   ]
  },
  {
   "cell_type": "code",
   "execution_count": 15,
   "id": "52ae891c",
   "metadata": {},
   "outputs": [
    {
     "data": {
      "text/plain": [
       "torch.Size([3, 1, 32, 224, 224])"
      ]
     },
     "execution_count": 15,
     "metadata": {},
     "output_type": "execute_result"
    }
   ],
   "source": [
    "next(iter(train_loader))[0].shape"
   ]
  },
  {
   "cell_type": "code",
   "execution_count": 16,
   "id": "0db27612",
   "metadata": {},
   "outputs": [
    {
     "data": {
      "text/plain": [
       "torch.Size([3])"
      ]
     },
     "execution_count": 16,
     "metadata": {},
     "output_type": "execute_result"
    }
   ],
   "source": [
    "next(iter(train_loader))[1].shape"
   ]
  },
  {
   "cell_type": "code",
   "execution_count": 22,
   "id": "a3b7363b",
   "metadata": {},
   "outputs": [
    {
     "data": {
      "text/plain": [
       "torch.Size([3])"
      ]
     },
     "execution_count": 22,
     "metadata": {},
     "output_type": "execute_result"
    }
   ],
   "source": [
    "model(next(iter(train_loader))[0]).shape"
   ]
  },
  {
   "cell_type": "code",
   "execution_count": 3,
   "id": "f639862b",
   "metadata": {},
   "outputs": [
    {
     "data": {
      "text/plain": [
       "1"
      ]
     },
     "execution_count": 3,
     "metadata": {},
     "output_type": "execute_result"
    }
   ],
   "source": [
    "import os\n",
    "os.getenv('WORLD_SIZE', 1)"
   ]
  },
  {
   "cell_type": "code",
   "execution_count": 27,
   "id": "67b5d7a8",
   "metadata": {},
   "outputs": [
    {
     "data": {
      "text/plain": [
       "tensor(1.)"
      ]
     },
     "execution_count": 27,
     "metadata": {},
     "output_type": "execute_result"
    }
   ],
   "source": [
    "torch.tensor(1).type(type(next(iter(train_loader))[0]))"
   ]
  },
  {
   "cell_type": "code",
   "execution_count": 1,
   "id": "53bc13de",
   "metadata": {},
   "outputs": [
    {
     "name": "stdout",
     "output_type": "stream",
     "text": [
      "쿠다 가능 :True\n",
      "현재 디바이스 :0\n",
      "디바이스 갯수 :2\n",
      "디바이스 :<torch.cuda.device object at 0x7f1a44138cd0>\n",
      "디바이스 이름 :NVIDIA GeForce RTX 3090\n",
      "디바이스 :<torch.cuda.device object at 0x7f1a44138280>\n",
      "디바이스 이름 :NVIDIA GeForce RTX 3090\n"
     ]
    }
   ],
   "source": [
    "import torch\n",
    " \n",
    "print(\"쿠다 가능 :{}\".format(torch.cuda.is_available()))\n",
    "print(\"현재 디바이스 :{}\".format(torch.cuda.current_device() ))\n",
    "print(\"디바이스 갯수 :{}\".format(torch.cuda.device_count()))\n",
    "for idx in range(0, torch.cuda.device_count()  ):\n",
    "    print(\"디바이스 :{}\".format(torch.cuda.device(idx)))\n",
    "    print(\"디바이스 이름 :{}\".format(torch.cuda.get_device_name(idx)))"
   ]
  }
 ],
 "metadata": {
  "kernelspec": {
   "display_name": "Python 3 (ipykernel)",
   "language": "python",
   "name": "python3"
  },
  "language_info": {
   "codemirror_mode": {
    "name": "ipython",
    "version": 3
   },
   "file_extension": ".py",
   "mimetype": "text/x-python",
   "name": "python",
   "nbconvert_exporter": "python",
   "pygments_lexer": "ipython3",
   "version": "3.8.12"
  }
 },
 "nbformat": 4,
 "nbformat_minor": 5
}
