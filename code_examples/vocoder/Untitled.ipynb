{
 "cells": [
  {
   "cell_type": "code",
   "execution_count": 4,
   "id": "636b1846",
   "metadata": {},
   "outputs": [
    {
     "data": {
      "text/plain": [
       "'/root'"
      ]
     },
     "execution_count": 4,
     "metadata": {},
     "output_type": "execute_result"
    }
   ],
   "source": [
    " os.environ['HOME']"
   ]
  },
  {
   "cell_type": "code",
   "execution_count": 3,
   "id": "8e0b0076",
   "metadata": {},
   "outputs": [
    {
     "data": {
      "text/plain": [
       "1"
      ]
     },
     "execution_count": 3,
     "metadata": {},
     "output_type": "execute_result"
    }
   ],
   "source": [
    "import os\n",
    "os.getenv('WORLD_SIZE', 1)"
   ]
  },
  {
   "cell_type": "code",
   "execution_count": 1,
   "id": "11099d3d",
   "metadata": {},
   "outputs": [
    {
     "name": "stdout",
     "output_type": "stream",
     "text": [
      "쿠다 가능 :True\n",
      "현재 디바이스 :0\n",
      "디바이스 갯수 :2\n",
      "디바이스 :<torch.cuda.device object at 0x7f1a44138cd0>\n",
      "디바이스 이름 :NVIDIA GeForce RTX 3090\n",
      "디바이스 :<torch.cuda.device object at 0x7f1a44138280>\n",
      "디바이스 이름 :NVIDIA GeForce RTX 3090\n"
     ]
    }
   ],
   "source": [
    "import torch\n",
    " \n",
    "print(\"쿠다 가능 :{}\".format(torch.cuda.is_available()))\n",
    "print(\"현재 디바이스 :{}\".format(torch.cuda.current_device() ))\n",
    "print(\"디바이스 갯수 :{}\".format(torch.cuda.device_count()))\n",
    "for idx in range(0, torch.cuda.device_count()  ):\n",
    "    print(\"디바이스 :{}\".format(torch.cuda.device(idx)))\n",
    "    print(\"디바이스 이름 :{}\".format(torch.cuda.get_device_name(idx)))"
   ]
  }
 ],
 "metadata": {
  "kernelspec": {
   "display_name": "Python 3 (ipykernel)",
   "language": "python",
   "name": "python3"
  },
  "language_info": {
   "codemirror_mode": {
    "name": "ipython",
    "version": 3
   },
   "file_extension": ".py",
   "mimetype": "text/x-python",
   "name": "python",
   "nbconvert_exporter": "python",
   "pygments_lexer": "ipython3",
   "version": "3.8.12"
  }
 },
 "nbformat": 4,
 "nbformat_minor": 5
}
