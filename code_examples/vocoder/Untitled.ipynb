{
 "cells": [
  {
   "cell_type": "code",
   "execution_count": 5,
   "id": "e6558dc5",
   "metadata": {},
   "outputs": [],
   "source": [
    "import importlib\n",
    "function_string = 'models.ResNet_3D.ResNet18_3D'\n",
    "mod_name, func_name = function_string.rsplit('.',1)\n",
    "mod = importlib.import_module(mod_name)\n",
    "func = getattr(mod, func_name)\n",
    "result = func()"
   ]
  },
  {
   "cell_type": "code",
   "execution_count": 6,
   "id": "ff072fef",
   "metadata": {},
   "outputs": [
    {
     "data": {
      "text/plain": [
       "'models.ResNet_3D'"
      ]
     },
     "execution_count": 6,
     "metadata": {},
     "output_type": "execute_result"
    }
   ],
   "source": [
    "mod_name"
   ]
  },
  {
   "cell_type": "code",
   "execution_count": 7,
   "id": "42402d52",
   "metadata": {},
   "outputs": [
    {
     "data": {
      "text/plain": [
       "'ResNet18_3D'"
      ]
     },
     "execution_count": 7,
     "metadata": {},
     "output_type": "execute_result"
    }
   ],
   "source": [
    "func_name"
   ]
  }
 ],
 "metadata": {
  "kernelspec": {
   "display_name": "Python 3 (ipykernel)",
   "language": "python",
   "name": "python3"
  },
  "language_info": {
   "codemirror_mode": {
    "name": "ipython",
    "version": 3
   },
   "file_extension": ".py",
   "mimetype": "text/x-python",
   "name": "python",
   "nbconvert_exporter": "python",
   "pygments_lexer": "ipython3",
   "version": "3.8.12"
  }
 },
 "nbformat": 4,
 "nbformat_minor": 5
}
