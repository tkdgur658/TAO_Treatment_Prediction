{
 "cells": [
  {
   "cell_type": "code",
   "execution_count": 1,
   "id": "765748c3",
   "metadata": {},
   "outputs": [
    {
     "name": "stdout",
     "output_type": "stream",
     "text": [
      "Archive:  input_example.zip\n",
      "  inflating: inpuht_example/1010.npy  \n",
      "  inflating: inpuht_example/1016.npy  \n",
      "  inflating: inpuht_example/103.npy  \n",
      "  inflating: inpuht_example/104.npy  \n",
      "  inflating: inpuht_example/107.npy  \n",
      "  inflating: inpuht_example/108.npy  \n"
     ]
    }
   ],
   "source": [
    "!unzip input_example.zip -d inpuht_example"
   ]
  }
 ],
 "metadata": {
  "kernelspec": {
   "display_name": "Python 3 (ipykernel)",
   "language": "python",
   "name": "python3"
  },
  "language_info": {
   "codemirror_mode": {
    "name": "ipython",
    "version": 3
   },
   "file_extension": ".py",
   "mimetype": "text/x-python",
   "name": "python",
   "nbconvert_exporter": "python",
   "pygments_lexer": "ipython3",
   "version": "3.8.12"
  }
 },
 "nbformat": 4,
 "nbformat_minor": 5
}
